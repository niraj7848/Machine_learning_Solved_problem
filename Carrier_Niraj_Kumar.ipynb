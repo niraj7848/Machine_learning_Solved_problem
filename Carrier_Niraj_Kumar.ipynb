{
 "cells": [
  {
   "cell_type": "code",
   "execution_count": 261,
   "metadata": {},
   "outputs": [],
   "source": [
    "import pandas as pd\n",
    "import numpy as np\n",
    "import matplotlib.pyplot as plt\n",
    "%matplotlib inline\n",
    "plt.rcParams['figure.figsize'] = (20.0, 15.0)\n",
    "plt.rcParams['font.family'] = \"serif\"\n",
    "\n",
    "\n",
    "import seaborn as sns\n",
    "sns.set(style=\"white\")\n",
    "sns.set(style=\"whitegrid\", color_codes=True)\n",
    "\n",
    "import warnings\n",
    "warnings.filterwarnings('ignore')"
   ]
  },
  {
   "cell_type": "code",
   "execution_count": 412,
   "metadata": {},
   "outputs": [
    {
     "data": {
      "text/html": [
       "<div>\n",
       "<style scoped>\n",
       "    .dataframe tbody tr th:only-of-type {\n",
       "        vertical-align: middle;\n",
       "    }\n",
       "\n",
       "    .dataframe tbody tr th {\n",
       "        vertical-align: top;\n",
       "    }\n",
       "\n",
       "    .dataframe thead th {\n",
       "        text-align: right;\n",
       "    }\n",
       "</style>\n",
       "<table border=\"1\" class=\"dataframe\">\n",
       "  <thead>\n",
       "    <tr style=\"text-align: right;\">\n",
       "      <th></th>\n",
       "      <th>age</th>\n",
       "      <th>weight</th>\n",
       "      <th>bmi</th>\n",
       "      <th>blood_pressure</th>\n",
       "      <th>insulin_test</th>\n",
       "      <th>liver_stress_test</th>\n",
       "      <th>cardio_stress_test</th>\n",
       "      <th>years_smoking</th>\n",
       "      <th>zeta_disease</th>\n",
       "    </tr>\n",
       "  </thead>\n",
       "  <tbody>\n",
       "    <tr>\n",
       "      <th>0</th>\n",
       "      <td>54</td>\n",
       "      <td>189</td>\n",
       "      <td>27.1</td>\n",
       "      <td>80</td>\n",
       "      <td>0</td>\n",
       "      <td>1.5038</td>\n",
       "      <td>0</td>\n",
       "      <td>10</td>\n",
       "      <td>0</td>\n",
       "    </tr>\n",
       "    <tr>\n",
       "      <th>1</th>\n",
       "      <td>23</td>\n",
       "      <td>150</td>\n",
       "      <td>38.5</td>\n",
       "      <td>68</td>\n",
       "      <td>71</td>\n",
       "      <td>0.3868</td>\n",
       "      <td>55</td>\n",
       "      <td>2</td>\n",
       "      <td>0</td>\n",
       "    </tr>\n",
       "    <tr>\n",
       "      <th>2</th>\n",
       "      <td>47</td>\n",
       "      <td>186</td>\n",
       "      <td>29.9</td>\n",
       "      <td>90</td>\n",
       "      <td>0</td>\n",
       "      <td>0.2728</td>\n",
       "      <td>0</td>\n",
       "      <td>7</td>\n",
       "      <td>0</td>\n",
       "    </tr>\n",
       "    <tr>\n",
       "      <th>3</th>\n",
       "      <td>18</td>\n",
       "      <td>150</td>\n",
       "      <td>30.8</td>\n",
       "      <td>70</td>\n",
       "      <td>1033</td>\n",
       "      <td>0.6598</td>\n",
       "      <td>56</td>\n",
       "      <td>0</td>\n",
       "      <td>0</td>\n",
       "    </tr>\n",
       "    <tr>\n",
       "      <th>4</th>\n",
       "      <td>24</td>\n",
       "      <td>160</td>\n",
       "      <td>32.4</td>\n",
       "      <td>74</td>\n",
       "      <td>125</td>\n",
       "      <td>0.7608</td>\n",
       "      <td>59</td>\n",
       "      <td>2</td>\n",
       "      <td>0</td>\n",
       "    </tr>\n",
       "  </tbody>\n",
       "</table>\n",
       "</div>"
      ],
      "text/plain": [
       "   age  weight   bmi  blood_pressure  insulin_test  liver_stress_test  \\\n",
       "0   54     189  27.1              80             0             1.5038   \n",
       "1   23     150  38.5              68            71             0.3868   \n",
       "2   47     186  29.9              90             0             0.2728   \n",
       "3   18     150  30.8              70          1033             0.6598   \n",
       "4   24     160  32.4              74           125             0.7608   \n",
       "\n",
       "   cardio_stress_test  years_smoking  zeta_disease  \n",
       "0                   0             10             0  \n",
       "1                  55              2             0  \n",
       "2                   0              7             0  \n",
       "3                  56              0             0  \n",
       "4                  59              2             0  "
      ]
     },
     "execution_count": 412,
     "metadata": {},
     "output_type": "execute_result"
    }
   ],
   "source": [
    "file_test = r\"D:\\000000BookQueue\\FAQs\\ML\\interview\\Interview_Assignements\\Carrier_Hydrabad\\2021-01-21_zeta-disease_prediction-data_dsi-take-home-challenge.csv\"\n",
    "file_train = r\"D:\\000000BookQueue\\FAQs\\ML\\interview\\Interview_Assignements\\Carrier_Hydrabad\\2021-01-21_zeta-disease_training-data_dsi-take-home-challenge.csv\"\n",
    "df = pd.read_csv(file_train, header=0)\n",
    "df.head()"
   ]
  },
  {
   "cell_type": "code",
   "execution_count": 413,
   "metadata": {},
   "outputs": [
    {
     "data": {
      "text/plain": [
       "age                     int64\n",
       "weight                  int64\n",
       "bmi                   float64\n",
       "blood_pressure          int64\n",
       "insulin_test            int64\n",
       "liver_stress_test     float64\n",
       "cardio_stress_test      int64\n",
       "years_smoking           int64\n",
       "zeta_disease            int64\n",
       "dtype: object"
      ]
     },
     "execution_count": 413,
     "metadata": {},
     "output_type": "execute_result"
    }
   ],
   "source": [
    "df.dtypes"
   ]
  },
  {
   "cell_type": "markdown",
   "metadata": {},
   "source": [
    "### Check Missing Data"
   ]
  },
  {
   "cell_type": "code",
   "execution_count": 414,
   "metadata": {},
   "outputs": [
    {
     "data": {
      "text/plain": [
       "age                   0\n",
       "weight                0\n",
       "bmi                   0\n",
       "blood_pressure        0\n",
       "insulin_test          0\n",
       "liver_stress_test     0\n",
       "cardio_stress_test    0\n",
       "years_smoking         0\n",
       "zeta_disease          0\n",
       "dtype: int64"
      ]
     },
     "execution_count": 414,
     "metadata": {},
     "output_type": "execute_result"
    }
   ],
   "source": [
    "df.isnull().sum()"
   ]
  },
  {
   "cell_type": "code",
   "execution_count": 415,
   "metadata": {},
   "outputs": [
    {
     "data": {
      "text/html": [
       "<div>\n",
       "<style scoped>\n",
       "    .dataframe tbody tr th:only-of-type {\n",
       "        vertical-align: middle;\n",
       "    }\n",
       "\n",
       "    .dataframe tbody tr th {\n",
       "        vertical-align: top;\n",
       "    }\n",
       "\n",
       "    .dataframe thead th {\n",
       "        text-align: right;\n",
       "    }\n",
       "</style>\n",
       "<table border=\"1\" class=\"dataframe\">\n",
       "  <thead>\n",
       "    <tr style=\"text-align: right;\">\n",
       "      <th></th>\n",
       "      <th>age</th>\n",
       "      <th>weight</th>\n",
       "      <th>bmi</th>\n",
       "      <th>blood_pressure</th>\n",
       "      <th>insulin_test</th>\n",
       "      <th>liver_stress_test</th>\n",
       "      <th>cardio_stress_test</th>\n",
       "      <th>years_smoking</th>\n",
       "      <th>zeta_disease</th>\n",
       "    </tr>\n",
       "  </thead>\n",
       "  <tbody>\n",
       "    <tr>\n",
       "      <th>count</th>\n",
       "      <td>800.000000</td>\n",
       "      <td>800.000000</td>\n",
       "      <td>800.000000</td>\n",
       "      <td>800.000000</td>\n",
       "      <td>800.000000</td>\n",
       "      <td>800.000000</td>\n",
       "      <td>800.000000</td>\n",
       "      <td>800.000000</td>\n",
       "      <td>800.000000</td>\n",
       "    </tr>\n",
       "    <tr>\n",
       "      <th>mean</th>\n",
       "      <td>30.985000</td>\n",
       "      <td>172.407500</td>\n",
       "      <td>32.201625</td>\n",
       "      <td>69.565000</td>\n",
       "      <td>85.887500</td>\n",
       "      <td>0.544496</td>\n",
       "      <td>43.121250</td>\n",
       "      <td>4.051250</td>\n",
       "      <td>0.348750</td>\n",
       "    </tr>\n",
       "    <tr>\n",
       "      <th>std</th>\n",
       "      <td>13.824025</td>\n",
       "      <td>31.942438</td>\n",
       "      <td>8.549155</td>\n",
       "      <td>19.874784</td>\n",
       "      <td>126.333656</td>\n",
       "      <td>0.348711</td>\n",
       "      <td>30.409949</td>\n",
       "      <td>4.176173</td>\n",
       "      <td>0.476873</td>\n",
       "    </tr>\n",
       "    <tr>\n",
       "      <th>min</th>\n",
       "      <td>18.000000</td>\n",
       "      <td>94.000000</td>\n",
       "      <td>0.000000</td>\n",
       "      <td>0.000000</td>\n",
       "      <td>0.000000</td>\n",
       "      <td>0.140800</td>\n",
       "      <td>0.000000</td>\n",
       "      <td>0.000000</td>\n",
       "      <td>0.000000</td>\n",
       "    </tr>\n",
       "    <tr>\n",
       "      <th>25%</th>\n",
       "      <td>21.000000</td>\n",
       "      <td>149.000000</td>\n",
       "      <td>27.300000</td>\n",
       "      <td>62.000000</td>\n",
       "      <td>0.000000</td>\n",
       "      <td>0.307800</td>\n",
       "      <td>0.000000</td>\n",
       "      <td>1.000000</td>\n",
       "      <td>0.000000</td>\n",
       "    </tr>\n",
       "    <tr>\n",
       "      <th>50%</th>\n",
       "      <td>26.000000</td>\n",
       "      <td>167.000000</td>\n",
       "      <td>32.050000</td>\n",
       "      <td>72.000000</td>\n",
       "      <td>45.000000</td>\n",
       "      <td>0.445300</td>\n",
       "      <td>53.000000</td>\n",
       "      <td>3.000000</td>\n",
       "      <td>0.000000</td>\n",
       "    </tr>\n",
       "    <tr>\n",
       "      <th>75%</th>\n",
       "      <td>38.000000</td>\n",
       "      <td>192.000000</td>\n",
       "      <td>36.525000</td>\n",
       "      <td>80.000000</td>\n",
       "      <td>130.000000</td>\n",
       "      <td>0.699800</td>\n",
       "      <td>62.000000</td>\n",
       "      <td>6.000000</td>\n",
       "      <td>1.000000</td>\n",
       "    </tr>\n",
       "    <tr>\n",
       "      <th>max</th>\n",
       "      <td>109.000000</td>\n",
       "      <td>308.000000</td>\n",
       "      <td>86.100000</td>\n",
       "      <td>157.000000</td>\n",
       "      <td>1077.000000</td>\n",
       "      <td>3.481300</td>\n",
       "      <td>214.000000</td>\n",
       "      <td>40.000000</td>\n",
       "      <td>1.000000</td>\n",
       "    </tr>\n",
       "  </tbody>\n",
       "</table>\n",
       "</div>"
      ],
      "text/plain": [
       "              age      weight         bmi  blood_pressure  insulin_test  \\\n",
       "count  800.000000  800.000000  800.000000      800.000000    800.000000   \n",
       "mean    30.985000  172.407500   32.201625       69.565000     85.887500   \n",
       "std     13.824025   31.942438    8.549155       19.874784    126.333656   \n",
       "min     18.000000   94.000000    0.000000        0.000000      0.000000   \n",
       "25%     21.000000  149.000000   27.300000       62.000000      0.000000   \n",
       "50%     26.000000  167.000000   32.050000       72.000000     45.000000   \n",
       "75%     38.000000  192.000000   36.525000       80.000000    130.000000   \n",
       "max    109.000000  308.000000   86.100000      157.000000   1077.000000   \n",
       "\n",
       "       liver_stress_test  cardio_stress_test  years_smoking  zeta_disease  \n",
       "count         800.000000          800.000000     800.000000    800.000000  \n",
       "mean            0.544496           43.121250       4.051250      0.348750  \n",
       "std             0.348711           30.409949       4.176173      0.476873  \n",
       "min             0.140800            0.000000       0.000000      0.000000  \n",
       "25%             0.307800            0.000000       1.000000      0.000000  \n",
       "50%             0.445300           53.000000       3.000000      0.000000  \n",
       "75%             0.699800           62.000000       6.000000      1.000000  \n",
       "max             3.481300          214.000000      40.000000      1.000000  "
      ]
     },
     "execution_count": 415,
     "metadata": {},
     "output_type": "execute_result"
    }
   ],
   "source": [
    "df.describe()"
   ]
  },
  {
   "cell_type": "markdown",
   "metadata": {},
   "source": [
    "### Understand the zero values"
   ]
  },
  {
   "cell_type": "code",
   "execution_count": 416,
   "metadata": {},
   "outputs": [
    {
     "name": "stdout",
     "output_type": "stream",
     "text": [
      "Number of rows where BMI=0 is '11'. % 0 value of overall value is 1.375%\n"
     ]
    },
    {
     "data": {
      "text/html": [
       "<div>\n",
       "<style scoped>\n",
       "    .dataframe tbody tr th:only-of-type {\n",
       "        vertical-align: middle;\n",
       "    }\n",
       "\n",
       "    .dataframe tbody tr th {\n",
       "        vertical-align: top;\n",
       "    }\n",
       "\n",
       "    .dataframe thead th {\n",
       "        text-align: right;\n",
       "    }\n",
       "</style>\n",
       "<table border=\"1\" class=\"dataframe\">\n",
       "  <thead>\n",
       "    <tr style=\"text-align: right;\">\n",
       "      <th></th>\n",
       "      <th>age</th>\n",
       "      <th>weight</th>\n",
       "      <th>bmi</th>\n",
       "      <th>blood_pressure</th>\n",
       "      <th>insulin_test</th>\n",
       "      <th>liver_stress_test</th>\n",
       "      <th>cardio_stress_test</th>\n",
       "      <th>years_smoking</th>\n",
       "      <th>zeta_disease</th>\n",
       "    </tr>\n",
       "  </thead>\n",
       "  <tbody>\n",
       "    <tr>\n",
       "      <th>27</th>\n",
       "      <td>66</td>\n",
       "      <td>186</td>\n",
       "      <td>0.0</td>\n",
       "      <td>82</td>\n",
       "      <td>0</td>\n",
       "      <td>0.7028</td>\n",
       "      <td>0</td>\n",
       "      <td>5</td>\n",
       "      <td>0</td>\n",
       "    </tr>\n",
       "    <tr>\n",
       "      <th>146</th>\n",
       "      <td>18</td>\n",
       "      <td>152</td>\n",
       "      <td>0.0</td>\n",
       "      <td>75</td>\n",
       "      <td>0</td>\n",
       "      <td>0.6348</td>\n",
       "      <td>53</td>\n",
       "      <td>0</td>\n",
       "      <td>0</td>\n",
       "    </tr>\n",
       "    <tr>\n",
       "      <th>227</th>\n",
       "      <td>21</td>\n",
       "      <td>155</td>\n",
       "      <td>0.0</td>\n",
       "      <td>0</td>\n",
       "      <td>0</td>\n",
       "      <td>0.3678</td>\n",
       "      <td>0</td>\n",
       "      <td>7</td>\n",
       "      <td>0</td>\n",
       "    </tr>\n",
       "    <tr>\n",
       "      <th>354</th>\n",
       "      <td>23</td>\n",
       "      <td>164</td>\n",
       "      <td>0.0</td>\n",
       "      <td>0</td>\n",
       "      <td>0</td>\n",
       "      <td>0.2518</td>\n",
       "      <td>0</td>\n",
       "      <td>6</td>\n",
       "      <td>0</td>\n",
       "    </tr>\n",
       "    <tr>\n",
       "      <th>447</th>\n",
       "      <td>22</td>\n",
       "      <td>144</td>\n",
       "      <td>0.0</td>\n",
       "      <td>0</td>\n",
       "      <td>0</td>\n",
       "      <td>0.3188</td>\n",
       "      <td>0</td>\n",
       "      <td>0</td>\n",
       "      <td>0</td>\n",
       "    </tr>\n",
       "  </tbody>\n",
       "</table>\n",
       "</div>"
      ],
      "text/plain": [
       "     age  weight  bmi  blood_pressure  insulin_test  liver_stress_test  \\\n",
       "27    66     186  0.0              82             0             0.7028   \n",
       "146   18     152  0.0              75             0             0.6348   \n",
       "227   21     155  0.0               0             0             0.3678   \n",
       "354   23     164  0.0               0             0             0.2518   \n",
       "447   22     144  0.0               0             0             0.3188   \n",
       "\n",
       "     cardio_stress_test  years_smoking  zeta_disease  \n",
       "27                    0              5             0  \n",
       "146                  53              0             0  \n",
       "227                   0              7             0  \n",
       "354                   0              6             0  \n",
       "447                   0              0             0  "
      ]
     },
     "execution_count": 416,
     "metadata": {},
     "output_type": "execute_result"
    }
   ],
   "source": [
    "# Rows where bmi = 0\n",
    "print(f\"Number of rows where BMI=0 is '{len(df[df.bmi == 0])}'. % 0 value of overall value is {(len(df[df.bmi == 0])/len(df)*100)}%\")\n",
    "df[df.bmi == 0].head()\n"
   ]
  },
  {
   "cell_type": "code",
   "execution_count": 417,
   "metadata": {},
   "outputs": [
    {
     "name": "stdout",
     "output_type": "stream",
     "text": [
      "Number of rows where blood_pressure=0 is '35', % 0 value of overall value is 4.375% \n"
     ]
    },
    {
     "data": {
      "text/html": [
       "<div>\n",
       "<style scoped>\n",
       "    .dataframe tbody tr th:only-of-type {\n",
       "        vertical-align: middle;\n",
       "    }\n",
       "\n",
       "    .dataframe tbody tr th {\n",
       "        vertical-align: top;\n",
       "    }\n",
       "\n",
       "    .dataframe thead th {\n",
       "        text-align: right;\n",
       "    }\n",
       "</style>\n",
       "<table border=\"1\" class=\"dataframe\">\n",
       "  <thead>\n",
       "    <tr style=\"text-align: right;\">\n",
       "      <th></th>\n",
       "      <th>age</th>\n",
       "      <th>weight</th>\n",
       "      <th>bmi</th>\n",
       "      <th>blood_pressure</th>\n",
       "      <th>insulin_test</th>\n",
       "      <th>liver_stress_test</th>\n",
       "      <th>cardio_stress_test</th>\n",
       "      <th>years_smoking</th>\n",
       "      <th>zeta_disease</th>\n",
       "    </tr>\n",
       "  </thead>\n",
       "  <tbody>\n",
       "    <tr>\n",
       "      <th>25</th>\n",
       "      <td>28</td>\n",
       "      <td>141</td>\n",
       "      <td>29.8</td>\n",
       "      <td>0</td>\n",
       "      <td>0</td>\n",
       "      <td>0.5638</td>\n",
       "      <td>0</td>\n",
       "      <td>6</td>\n",
       "      <td>0</td>\n",
       "    </tr>\n",
       "    <tr>\n",
       "      <th>68</th>\n",
       "      <td>41</td>\n",
       "      <td>167</td>\n",
       "      <td>33.8</td>\n",
       "      <td>0</td>\n",
       "      <td>0</td>\n",
       "      <td>0.9948</td>\n",
       "      <td>0</td>\n",
       "      <td>0</td>\n",
       "      <td>0</td>\n",
       "    </tr>\n",
       "    <tr>\n",
       "      <th>74</th>\n",
       "      <td>25</td>\n",
       "      <td>196</td>\n",
       "      <td>27.5</td>\n",
       "      <td>0</td>\n",
       "      <td>0</td>\n",
       "      <td>0.3028</td>\n",
       "      <td>0</td>\n",
       "      <td>2</td>\n",
       "      <td>1</td>\n",
       "    </tr>\n",
       "    <tr>\n",
       "      <th>77</th>\n",
       "      <td>29</td>\n",
       "      <td>150</td>\n",
       "      <td>30.0</td>\n",
       "      <td>0</td>\n",
       "      <td>0</td>\n",
       "      <td>0.5468</td>\n",
       "      <td>0</td>\n",
       "      <td>7</td>\n",
       "      <td>1</td>\n",
       "    </tr>\n",
       "    <tr>\n",
       "      <th>80</th>\n",
       "      <td>26</td>\n",
       "      <td>165</td>\n",
       "      <td>35.3</td>\n",
       "      <td>0</td>\n",
       "      <td>0</td>\n",
       "      <td>0.1968</td>\n",
       "      <td>0</td>\n",
       "      <td>10</td>\n",
       "      <td>0</td>\n",
       "    </tr>\n",
       "  </tbody>\n",
       "</table>\n",
       "</div>"
      ],
      "text/plain": [
       "    age  weight   bmi  blood_pressure  insulin_test  liver_stress_test  \\\n",
       "25   28     141  29.8               0             0             0.5638   \n",
       "68   41     167  33.8               0             0             0.9948   \n",
       "74   25     196  27.5               0             0             0.3028   \n",
       "77   29     150  30.0               0             0             0.5468   \n",
       "80   26     165  35.3               0             0             0.1968   \n",
       "\n",
       "    cardio_stress_test  years_smoking  zeta_disease  \n",
       "25                   0              6             0  \n",
       "68                   0              0             0  \n",
       "74                   0              2             1  \n",
       "77                   0              7             1  \n",
       "80                   0             10             0  "
      ]
     },
     "execution_count": 417,
     "metadata": {},
     "output_type": "execute_result"
    }
   ],
   "source": [
    "# Rows where blood_pressure = 0\n",
    "print(f\"Number of rows where blood_pressure=0 is '{len(df[df.blood_pressure == 0])}', % 0 value of overall value is {(len(df[df.blood_pressure == 0])/len(df)*100)}% \")\n",
    "df[df.blood_pressure == 0].head()"
   ]
  },
  {
   "cell_type": "code",
   "execution_count": 418,
   "metadata": {},
   "outputs": [
    {
     "name": "stdout",
     "output_type": "stream",
     "text": [
      "Number of sample now is 789\n"
     ]
    }
   ],
   "source": [
    "# BMI = 0 has no meaning so, either we drop the coulmn with BMI= 0 \n",
    "# Or, somehow impute the value\n",
    "# We will go ahead with Dropping the value as these only 1.375%\n",
    "df = df[df.bmi != 0]\n",
    "print(f\"Number of sample now is {len(df)}\")"
   ]
  },
  {
   "cell_type": "code",
   "execution_count": 419,
   "metadata": {},
   "outputs": [
    {
     "name": "stdout",
     "output_type": "stream",
     "text": [
      "Number of sample now is 761\n"
     ]
    }
   ],
   "source": [
    "# blood_pressure = 0 has no meaning so, either we drop the coulmn with blood_pressure= 0 \n",
    "# Or, somehow impute the value\n",
    "# We will go ahead with Dropping the value as these only 4.375%\n",
    "df = df[df.blood_pressure != 0]\n",
    "print(f\"Number of sample now is {len(df)}\")"
   ]
  },
  {
   "cell_type": "code",
   "execution_count": 420,
   "metadata": {},
   "outputs": [
    {
     "name": "stdout",
     "output_type": "stream",
     "text": [
      "Number of rows where insulin_test=0 is '332'\n"
     ]
    },
    {
     "data": {
      "text/html": [
       "<div>\n",
       "<style scoped>\n",
       "    .dataframe tbody tr th:only-of-type {\n",
       "        vertical-align: middle;\n",
       "    }\n",
       "\n",
       "    .dataframe tbody tr th {\n",
       "        vertical-align: top;\n",
       "    }\n",
       "\n",
       "    .dataframe thead th {\n",
       "        text-align: right;\n",
       "    }\n",
       "</style>\n",
       "<table border=\"1\" class=\"dataframe\">\n",
       "  <thead>\n",
       "    <tr style=\"text-align: right;\">\n",
       "      <th></th>\n",
       "      <th>age</th>\n",
       "      <th>weight</th>\n",
       "      <th>bmi</th>\n",
       "      <th>blood_pressure</th>\n",
       "      <th>insulin_test</th>\n",
       "      <th>liver_stress_test</th>\n",
       "      <th>cardio_stress_test</th>\n",
       "      <th>years_smoking</th>\n",
       "      <th>zeta_disease</th>\n",
       "    </tr>\n",
       "  </thead>\n",
       "  <tbody>\n",
       "    <tr>\n",
       "      <th>0</th>\n",
       "      <td>54</td>\n",
       "      <td>189</td>\n",
       "      <td>27.1</td>\n",
       "      <td>80</td>\n",
       "      <td>0</td>\n",
       "      <td>1.5038</td>\n",
       "      <td>0</td>\n",
       "      <td>10</td>\n",
       "      <td>0</td>\n",
       "    </tr>\n",
       "    <tr>\n",
       "      <th>2</th>\n",
       "      <td>47</td>\n",
       "      <td>186</td>\n",
       "      <td>29.9</td>\n",
       "      <td>90</td>\n",
       "      <td>0</td>\n",
       "      <td>0.2728</td>\n",
       "      <td>0</td>\n",
       "      <td>7</td>\n",
       "      <td>0</td>\n",
       "    </tr>\n",
       "    <tr>\n",
       "      <th>5</th>\n",
       "      <td>49</td>\n",
       "      <td>158</td>\n",
       "      <td>27.0</td>\n",
       "      <td>80</td>\n",
       "      <td>0</td>\n",
       "      <td>0.3218</td>\n",
       "      <td>0</td>\n",
       "      <td>2</td>\n",
       "      <td>1</td>\n",
       "    </tr>\n",
       "    <tr>\n",
       "      <th>9</th>\n",
       "      <td>19</td>\n",
       "      <td>186</td>\n",
       "      <td>31.2</td>\n",
       "      <td>70</td>\n",
       "      <td>0</td>\n",
       "      <td>1.2448</td>\n",
       "      <td>0</td>\n",
       "      <td>4</td>\n",
       "      <td>1</td>\n",
       "    </tr>\n",
       "    <tr>\n",
       "      <th>11</th>\n",
       "      <td>24</td>\n",
       "      <td>172</td>\n",
       "      <td>36.8</td>\n",
       "      <td>70</td>\n",
       "      <td>0</td>\n",
       "      <td>0.4028</td>\n",
       "      <td>57</td>\n",
       "      <td>2</td>\n",
       "      <td>0</td>\n",
       "    </tr>\n",
       "  </tbody>\n",
       "</table>\n",
       "</div>"
      ],
      "text/plain": [
       "    age  weight   bmi  blood_pressure  insulin_test  liver_stress_test  \\\n",
       "0    54     189  27.1              80             0             1.5038   \n",
       "2    47     186  29.9              90             0             0.2728   \n",
       "5    49     158  27.0              80             0             0.3218   \n",
       "9    19     186  31.2              70             0             1.2448   \n",
       "11   24     172  36.8              70             0             0.4028   \n",
       "\n",
       "    cardio_stress_test  years_smoking  zeta_disease  \n",
       "0                    0             10             0  \n",
       "2                    0              7             0  \n",
       "5                    0              2             1  \n",
       "9                    0              4             1  \n",
       "11                  57              2             0  "
      ]
     },
     "execution_count": 420,
     "metadata": {},
     "output_type": "execute_result"
    }
   ],
   "source": [
    "print(f\"Number of rows where insulin_test=0 is '{len(df[df.insulin_test == 0])}'\")\n",
    "df[df.insulin_test == 0.0].head()\n",
    "# Assuming insulin_test=0 may have some meaning"
   ]
  },
  {
   "cell_type": "code",
   "execution_count": 421,
   "metadata": {},
   "outputs": [
    {
     "name": "stdout",
     "output_type": "stream",
     "text": [
      "Number of rows where cardio_stress_test=0 is '192'\n"
     ]
    },
    {
     "data": {
      "text/html": [
       "<div>\n",
       "<style scoped>\n",
       "    .dataframe tbody tr th:only-of-type {\n",
       "        vertical-align: middle;\n",
       "    }\n",
       "\n",
       "    .dataframe tbody tr th {\n",
       "        vertical-align: top;\n",
       "    }\n",
       "\n",
       "    .dataframe thead th {\n",
       "        text-align: right;\n",
       "    }\n",
       "</style>\n",
       "<table border=\"1\" class=\"dataframe\">\n",
       "  <thead>\n",
       "    <tr style=\"text-align: right;\">\n",
       "      <th></th>\n",
       "      <th>age</th>\n",
       "      <th>weight</th>\n",
       "      <th>bmi</th>\n",
       "      <th>blood_pressure</th>\n",
       "      <th>insulin_test</th>\n",
       "      <th>liver_stress_test</th>\n",
       "      <th>cardio_stress_test</th>\n",
       "      <th>years_smoking</th>\n",
       "      <th>zeta_disease</th>\n",
       "    </tr>\n",
       "  </thead>\n",
       "  <tbody>\n",
       "    <tr>\n",
       "      <th>0</th>\n",
       "      <td>54</td>\n",
       "      <td>189</td>\n",
       "      <td>27.1</td>\n",
       "      <td>80</td>\n",
       "      <td>0</td>\n",
       "      <td>1.5038</td>\n",
       "      <td>0</td>\n",
       "      <td>10</td>\n",
       "      <td>0</td>\n",
       "    </tr>\n",
       "    <tr>\n",
       "      <th>2</th>\n",
       "      <td>47</td>\n",
       "      <td>186</td>\n",
       "      <td>29.9</td>\n",
       "      <td>90</td>\n",
       "      <td>0</td>\n",
       "      <td>0.2728</td>\n",
       "      <td>0</td>\n",
       "      <td>7</td>\n",
       "      <td>0</td>\n",
       "    </tr>\n",
       "    <tr>\n",
       "      <th>5</th>\n",
       "      <td>49</td>\n",
       "      <td>158</td>\n",
       "      <td>27.0</td>\n",
       "      <td>80</td>\n",
       "      <td>0</td>\n",
       "      <td>0.3218</td>\n",
       "      <td>0</td>\n",
       "      <td>2</td>\n",
       "      <td>1</td>\n",
       "    </tr>\n",
       "    <tr>\n",
       "      <th>9</th>\n",
       "      <td>19</td>\n",
       "      <td>186</td>\n",
       "      <td>31.2</td>\n",
       "      <td>70</td>\n",
       "      <td>0</td>\n",
       "      <td>1.2448</td>\n",
       "      <td>0</td>\n",
       "      <td>4</td>\n",
       "      <td>1</td>\n",
       "    </tr>\n",
       "    <tr>\n",
       "      <th>18</th>\n",
       "      <td>24</td>\n",
       "      <td>123</td>\n",
       "      <td>26.8</td>\n",
       "      <td>60</td>\n",
       "      <td>0</td>\n",
       "      <td>0.3308</td>\n",
       "      <td>0</td>\n",
       "      <td>5</td>\n",
       "      <td>0</td>\n",
       "    </tr>\n",
       "  </tbody>\n",
       "</table>\n",
       "</div>"
      ],
      "text/plain": [
       "    age  weight   bmi  blood_pressure  insulin_test  liver_stress_test  \\\n",
       "0    54     189  27.1              80             0             1.5038   \n",
       "2    47     186  29.9              90             0             0.2728   \n",
       "5    49     158  27.0              80             0             0.3218   \n",
       "9    19     186  31.2              70             0             1.2448   \n",
       "18   24     123  26.8              60             0             0.3308   \n",
       "\n",
       "    cardio_stress_test  years_smoking  zeta_disease  \n",
       "0                    0             10             0  \n",
       "2                    0              7             0  \n",
       "5                    0              2             1  \n",
       "9                    0              4             1  \n",
       "18                   0              5             0  "
      ]
     },
     "execution_count": 421,
     "metadata": {},
     "output_type": "execute_result"
    }
   ],
   "source": [
    "print(f\"Number of rows where cardio_stress_test=0 is '{len(df[df.cardio_stress_test == 0])}'\")\n",
    "df[df.cardio_stress_test == 0.0].head()\n",
    "# Assuming cardio_stress_test=0 may have some meaning"
   ]
  },
  {
   "cell_type": "markdown",
   "metadata": {},
   "source": [
    "### Outlier"
   ]
  },
  {
   "cell_type": "code",
   "execution_count": 422,
   "metadata": {},
   "outputs": [],
   "source": [
    "from scipy import stats"
   ]
  },
  {
   "cell_type": "code",
   "execution_count": 423,
   "metadata": {},
   "outputs": [
    {
     "name": "stdout",
     "output_type": "stream",
     "text": [
      "Number of outlier at 4 Sigma = 38 | % outlier = 4.993429697766097%\n"
     ]
    }
   ],
   "source": [
    "z_score_ndarray = np.abs(stats.zscore(df))\n",
    "z_score_df = pd.DataFrame(z_score_ndarray, columns=df.columns)\n",
    "col_names = df.columns\n",
    "num_sigma = 4\n",
    "outl = len(z_score_df[(z_score_df[col_names]>num_sigma).any(axis=1)])\n",
    "print(f\"Number of outlier at {num_sigma} Sigma = {outl} | % outlier = {(outl/len(z_score_df))* 100}%\")"
   ]
  },
  {
   "cell_type": "markdown",
   "metadata": {},
   "source": [
    "* Number of outlier at 4 Sigma = 38 | % outlier = 4.99%\n",
    "* Number of outlier at 3 Sigma = 67 | % outlier = 8.80%\n",
    "* Percentage outliers are too many (5% for 4 sigma and ~9% for 3 sigma). This indicates that Outliers are NOT a measurement error and hence it is not a good idea to treat these outlier by dropping these points. In other words, the data has higher variability.\n",
    "* Instead of clipping the outlier, we can use Algorithms like Random Forest, Gradient Boosting, SVM etc which are Outlier tolerant.\n",
    "* Or treat the outlier with some transformation e.g., log-scale transformation and try using any classification algorithm\n"
   ]
  },
  {
   "cell_type": "code",
   "execution_count": null,
   "metadata": {},
   "outputs": [],
   "source": []
  },
  {
   "cell_type": "markdown",
   "metadata": {},
   "source": [
    "### Corelation"
   ]
  },
  {
   "cell_type": "code",
   "execution_count": 424,
   "metadata": {},
   "outputs": [
    {
     "data": {
      "text/html": [
       "<div>\n",
       "<style scoped>\n",
       "    .dataframe tbody tr th:only-of-type {\n",
       "        vertical-align: middle;\n",
       "    }\n",
       "\n",
       "    .dataframe tbody tr th {\n",
       "        vertical-align: top;\n",
       "    }\n",
       "\n",
       "    .dataframe thead th {\n",
       "        text-align: right;\n",
       "    }\n",
       "</style>\n",
       "<table border=\"1\" class=\"dataframe\">\n",
       "  <thead>\n",
       "    <tr style=\"text-align: right;\">\n",
       "      <th></th>\n",
       "      <th>age</th>\n",
       "      <th>weight</th>\n",
       "      <th>bmi</th>\n",
       "      <th>blood_pressure</th>\n",
       "      <th>insulin_test</th>\n",
       "      <th>liver_stress_test</th>\n",
       "      <th>cardio_stress_test</th>\n",
       "      <th>years_smoking</th>\n",
       "    </tr>\n",
       "  </thead>\n",
       "  <tbody>\n",
       "    <tr>\n",
       "      <th>age</th>\n",
       "      <td>1.000000</td>\n",
       "      <td>0.150498</td>\n",
       "      <td>0.023642</td>\n",
       "      <td>0.233124</td>\n",
       "      <td>-0.040191</td>\n",
       "      <td>0.036397</td>\n",
       "      <td>-0.121699</td>\n",
       "      <td>0.374950</td>\n",
       "    </tr>\n",
       "    <tr>\n",
       "      <th>weight</th>\n",
       "      <td>0.150498</td>\n",
       "      <td>1.000000</td>\n",
       "      <td>0.198225</td>\n",
       "      <td>0.152208</td>\n",
       "      <td>0.308353</td>\n",
       "      <td>0.146330</td>\n",
       "      <td>0.050580</td>\n",
       "      <td>0.104298</td>\n",
       "    </tr>\n",
       "    <tr>\n",
       "      <th>bmi</th>\n",
       "      <td>0.023642</td>\n",
       "      <td>0.198225</td>\n",
       "      <td>1.000000</td>\n",
       "      <td>0.215219</td>\n",
       "      <td>0.211148</td>\n",
       "      <td>0.123268</td>\n",
       "      <td>0.242168</td>\n",
       "      <td>0.026270</td>\n",
       "    </tr>\n",
       "    <tr>\n",
       "      <th>blood_pressure</th>\n",
       "      <td>0.233124</td>\n",
       "      <td>0.152208</td>\n",
       "      <td>0.215219</td>\n",
       "      <td>1.000000</td>\n",
       "      <td>-0.042912</td>\n",
       "      <td>0.008683</td>\n",
       "      <td>-0.022208</td>\n",
       "      <td>0.119467</td>\n",
       "    </tr>\n",
       "    <tr>\n",
       "      <th>insulin_test</th>\n",
       "      <td>-0.040191</td>\n",
       "      <td>0.308353</td>\n",
       "      <td>0.211148</td>\n",
       "      <td>-0.042912</td>\n",
       "      <td>1.000000</td>\n",
       "      <td>0.172606</td>\n",
       "      <td>0.397923</td>\n",
       "      <td>-0.009572</td>\n",
       "    </tr>\n",
       "    <tr>\n",
       "      <th>liver_stress_test</th>\n",
       "      <td>0.036397</td>\n",
       "      <td>0.146330</td>\n",
       "      <td>0.123268</td>\n",
       "      <td>0.008683</td>\n",
       "      <td>0.172606</td>\n",
       "      <td>1.000000</td>\n",
       "      <td>0.161508</td>\n",
       "      <td>0.031006</td>\n",
       "    </tr>\n",
       "    <tr>\n",
       "      <th>cardio_stress_test</th>\n",
       "      <td>-0.121699</td>\n",
       "      <td>0.050580</td>\n",
       "      <td>0.242168</td>\n",
       "      <td>-0.022208</td>\n",
       "      <td>0.397923</td>\n",
       "      <td>0.161508</td>\n",
       "      <td>1.000000</td>\n",
       "      <td>-0.094475</td>\n",
       "    </tr>\n",
       "    <tr>\n",
       "      <th>years_smoking</th>\n",
       "      <td>0.374950</td>\n",
       "      <td>0.104298</td>\n",
       "      <td>0.026270</td>\n",
       "      <td>0.119467</td>\n",
       "      <td>-0.009572</td>\n",
       "      <td>0.031006</td>\n",
       "      <td>-0.094475</td>\n",
       "      <td>1.000000</td>\n",
       "    </tr>\n",
       "  </tbody>\n",
       "</table>\n",
       "</div>"
      ],
      "text/plain": [
       "                         age    weight       bmi  blood_pressure  \\\n",
       "age                 1.000000  0.150498  0.023642        0.233124   \n",
       "weight              0.150498  1.000000  0.198225        0.152208   \n",
       "bmi                 0.023642  0.198225  1.000000        0.215219   \n",
       "blood_pressure      0.233124  0.152208  0.215219        1.000000   \n",
       "insulin_test       -0.040191  0.308353  0.211148       -0.042912   \n",
       "liver_stress_test   0.036397  0.146330  0.123268        0.008683   \n",
       "cardio_stress_test -0.121699  0.050580  0.242168       -0.022208   \n",
       "years_smoking       0.374950  0.104298  0.026270        0.119467   \n",
       "\n",
       "                    insulin_test  liver_stress_test  cardio_stress_test  \\\n",
       "age                    -0.040191           0.036397           -0.121699   \n",
       "weight                  0.308353           0.146330            0.050580   \n",
       "bmi                     0.211148           0.123268            0.242168   \n",
       "blood_pressure         -0.042912           0.008683           -0.022208   \n",
       "insulin_test            1.000000           0.172606            0.397923   \n",
       "liver_stress_test       0.172606           1.000000            0.161508   \n",
       "cardio_stress_test      0.397923           0.161508            1.000000   \n",
       "years_smoking          -0.009572           0.031006           -0.094475   \n",
       "\n",
       "                    years_smoking  \n",
       "age                      0.374950  \n",
       "weight                   0.104298  \n",
       "bmi                      0.026270  \n",
       "blood_pressure           0.119467  \n",
       "insulin_test            -0.009572  \n",
       "liver_stress_test        0.031006  \n",
       "cardio_stress_test      -0.094475  \n",
       "years_smoking            1.000000  "
      ]
     },
     "execution_count": 424,
     "metadata": {},
     "output_type": "execute_result"
    }
   ],
   "source": [
    "df.drop(\"zeta_disease\", axis=1).corr()"
   ]
  },
  {
   "cell_type": "code",
   "execution_count": 425,
   "metadata": {},
   "outputs": [
    {
     "data": {
      "image/png": "[encoded data removed]",
      "text/plain": [
       "<Figure size 1440x1080 with 2 Axes>"
      ]
     },
     "metadata": {},
     "output_type": "display_data"
    }
   ],
   "source": [
    "sns.heatmap(df.drop(\"zeta_disease\", axis=1).corr(), square=True,annot=True, cmap='coolwarm')\n",
    "# Work around for picture getting clipped at the top and bottom\n",
    "b, t = plt.ylim() # discover the values for bottom and top\n",
    "b += 0.5 # Add 0.5 to the bottom\n",
    "t -= 0.5 # Subtract 0.5 from the top\n",
    "plt.ylim(b, t) # update the ylim(bottom, top) values\n",
    "plt.show() # ta-da!"
   ]
  },
  {
   "cell_type": "code",
   "execution_count": 426,
   "metadata": {},
   "outputs": [],
   "source": [
    "#Highest Correations are between age and blood_pressure (0.23) & age and years_smoking (0.37)\n",
    "# These vaues are not very high, so we can use these for modeling."
   ]
  },
  {
   "cell_type": "code",
   "execution_count": 427,
   "metadata": {},
   "outputs": [
    {
     "data": {
      "image/png": "[encoded data removed]",
      "text/plain": [
       "<Figure size 720x360 with 2 Axes>"
      ]
     },
     "metadata": {},
     "output_type": "display_data"
    },
    {
     "data": {
      "image/png": "[encoded data removed]",
      "text/plain": [
       "<Figure size 720x360 with 2 Axes>"
      ]
     },
     "metadata": {},
     "output_type": "display_data"
    },
    {
     "data": {
      "image/png": "[encoded data removed]",
      "text/plain": [
       "<Figure size 720x360 with 2 Axes>"
      ]
     },
     "metadata": {},
     "output_type": "display_data"
    },
    {
     "data": {
      "image/png": "[encoded data removed]",
      "text/plain": [
       "<Figure size 720x360 with 2 Axes>"
      ]
     },
     "metadata": {},
     "output_type": "display_data"
    },
    {
     "data": {
      "image/png": "[encoded data removed]",
      "text/plain": [
       "<Figure size 720x360 with 2 Axes>"
      ]
     },
     "metadata": {},
     "output_type": "display_data"
    },
    {
     "data": {
      "image/png": "[encoded data removed]",
      "text/plain": [
       "<Figure size 720x360 with 2 Axes>"
      ]
     },
     "metadata": {},
     "output_type": "display_data"
    },
    {
     "data": {
      "image/png": "[encoded data removed]",
      "text/plain": [
       "<Figure size 720x360 with 2 Axes>"
      ]
     },
     "metadata": {},
     "output_type": "display_data"
    },
    {
     "data": {
      "image/png": "[encoded data removed]",
      "text/plain": [
       "<Figure size 720x360 with 2 Axes>"
      ]
     },
     "metadata": {},
     "output_type": "display_data"
    }
   ],
   "source": [
    "#fig, axes = plt.subplots(2, 4, figsize=(10,5))\n",
    "k=0\n",
    "IV_cols = df.drop(\"zeta_disease\", axis=1).columns\n",
    "for k in IV_cols:\n",
    "    fig, axes = plt.subplots(1, 2, figsize=(10,5))\n",
    "    sns.boxplot(ax = axes[0], data=df[df.zeta_disease==1], y=k, showmeans=True)\n",
    "    axes[0].set_title(f\"{k} where zeta_disease==1\")\n",
    "    sns.boxplot(ax = axes[1], data=df[df.zeta_disease==0], y=k, showmeans=True)\n",
    "    axes[1].set_title(f\"{k} where zeta_disease==0\")\n",
    "    \n",
    "        \n",
    "\n",
    "\n"
   ]
  },
  {
   "cell_type": "markdown",
   "metadata": {},
   "source": [
    "### Independent Variable and Target Variable Relationship"
   ]
  },
  {
   "cell_type": "code",
   "execution_count": 428,
   "metadata": {},
   "outputs": [
    {
     "name": "stdout",
     "output_type": "stream",
     "text": [
      "stat=-0.496, p=0.627\n",
      "Probably the same distribution\n"
     ]
    }
   ],
   "source": [
    "from scipy.stats import ttest_ind\n",
    "data1 = [0.873, 2.817, 0.121, -0.945, -0.055, -1.436, 0.360, -1.478, -1.637, -1.869]\n",
    "data2 = [1.142, -0.432, -0.938, -0.729, -0.846, -0.157, 0.500, 1.183]\n",
    "stat, p = ttest_ind(data1, data2)\n",
    "print('stat=%.3f, p=%.3f' % (stat, p))\n",
    "if p > 0.05:\n",
    "\tprint('Probably the same distribution')\n",
    "else:\n",
    "\tprint('Probably different distributions')"
   ]
  },
  {
   "cell_type": "code",
   "execution_count": 429,
   "metadata": {},
   "outputs": [
    {
     "name": "stdout",
     "output_type": "stream",
     "text": [
      "age: stat = 5.6307747037740015, p = 2.5264763547838992e-08 | Probably different distributions\n",
      "weight: stat = 14.466697843561834, p = 4.526283516908633e-42 | Probably different distributions\n",
      "bmi: stat = 7.879183112614845, p = 1.14243296138387e-14 | Probably different distributions\n",
      "blood_pressure: stat = 3.4704340683027923, p = 0.0005489739389748343 | Probably different distributions\n",
      "insulin_test: stat = 3.864764926404929, p = 0.00012070655351683147 | Probably different distributions\n",
      "liver_stress_test: stat = 5.539988595829811, p = 4.172808380257732e-08 | Probably different distributions\n",
      "cardio_stress_test: stat = 1.5107825833424833, p = 0.13126005047233907 | Probably the same distribution\n",
      "years_smoking: stat = 5.597017086502176, p = 3.0472026368565573e-08 | Probably different distributions\n"
     ]
    }
   ],
   "source": [
    "# Student’s t-test\n",
    "# Tests whether the means of two independent samples are significantly different.\n",
    "# H0: the means of the samples are equal.\n",
    "# H1: the means of the samples are unequal.\n",
    "\n",
    "IV = list(df.columns)[0:-1]\n",
    "for f in IV:\n",
    "    stat, p = ttest_ind(df[df.zeta_disease == 1][f], df[df.zeta_disease == 0][f])\n",
    "    print(f\"{f}: stat = {stat}, p = {p}\", end =\" | \")\n",
    "    if p > 0.05:\n",
    "        print('Probably the same distribution')\n",
    "    else:\n",
    "        print('Probably different distributions')"
   ]
  },
  {
   "cell_type": "code",
   "execution_count": null,
   "metadata": {},
   "outputs": [],
   "source": []
  },
  {
   "cell_type": "markdown",
   "metadata": {},
   "source": [
    "### Class Percentage"
   ]
  },
  {
   "cell_type": "code",
   "execution_count": 430,
   "metadata": {},
   "outputs": [
    {
     "name": "stdout",
     "output_type": "stream",
     "text": [
      "Target Class Percentage = 34.42838370565046%\n"
     ]
    }
   ],
   "source": [
    "cls_per = (len(df[df.zeta_disease==1])/len(df)) *100\n",
    "print(f\"Target Class Percentage = {cls_per}%\")\n",
    "\n",
    "# Target Class Percentage = 34.43%, So Class is balanced and hence no treatment is required"
   ]
  },
  {
   "cell_type": "code",
   "execution_count": null,
   "metadata": {},
   "outputs": [],
   "source": []
  },
  {
   "cell_type": "markdown",
   "metadata": {},
   "source": [
    "### Modeling"
   ]
  },
  {
   "cell_type": "markdown",
   "metadata": {},
   "source": [
    "* We can start with Logistic Regression as a base model, as all are numerical features\n",
    "* It just doen't give the relationship between Independent variables and target varible, also it gives driver variables as well.\n",
    "* Dependent variables are independent of each other as pair-wise correlation coffiecients are not very high (max=0.37).\n"
   ]
  },
  {
   "cell_type": "code",
   "execution_count": 431,
   "metadata": {},
   "outputs": [],
   "source": [
    "from sklearn.linear_model import LogisticRegression\n",
    "from sklearn.model_selection import train_test_split\n",
    "import statsmodels.api as sm"
   ]
  },
  {
   "cell_type": "code",
   "execution_count": 432,
   "metadata": {},
   "outputs": [
    {
     "name": "stdout",
     "output_type": "stream",
     "text": [
      "Total number of samples 761\n"
     ]
    },
    {
     "data": {
      "text/html": [
       "<div>\n",
       "<style scoped>\n",
       "    .dataframe tbody tr th:only-of-type {\n",
       "        vertical-align: middle;\n",
       "    }\n",
       "\n",
       "    .dataframe tbody tr th {\n",
       "        vertical-align: top;\n",
       "    }\n",
       "\n",
       "    .dataframe thead th {\n",
       "        text-align: right;\n",
       "    }\n",
       "</style>\n",
       "<table border=\"1\" class=\"dataframe\">\n",
       "  <thead>\n",
       "    <tr style=\"text-align: right;\">\n",
       "      <th></th>\n",
       "      <th>age</th>\n",
       "      <th>weight</th>\n",
       "      <th>bmi</th>\n",
       "      <th>blood_pressure</th>\n",
       "      <th>insulin_test</th>\n",
       "      <th>liver_stress_test</th>\n",
       "      <th>cardio_stress_test</th>\n",
       "      <th>years_smoking</th>\n",
       "      <th>zeta_disease</th>\n",
       "    </tr>\n",
       "  </thead>\n",
       "  <tbody>\n",
       "    <tr>\n",
       "      <th>0</th>\n",
       "      <td>54</td>\n",
       "      <td>189</td>\n",
       "      <td>27.1</td>\n",
       "      <td>80</td>\n",
       "      <td>0</td>\n",
       "      <td>1.5038</td>\n",
       "      <td>0</td>\n",
       "      <td>10</td>\n",
       "      <td>0</td>\n",
       "    </tr>\n",
       "    <tr>\n",
       "      <th>1</th>\n",
       "      <td>23</td>\n",
       "      <td>150</td>\n",
       "      <td>38.5</td>\n",
       "      <td>68</td>\n",
       "      <td>71</td>\n",
       "      <td>0.3868</td>\n",
       "      <td>55</td>\n",
       "      <td>2</td>\n",
       "      <td>0</td>\n",
       "    </tr>\n",
       "    <tr>\n",
       "      <th>2</th>\n",
       "      <td>47</td>\n",
       "      <td>186</td>\n",
       "      <td>29.9</td>\n",
       "      <td>90</td>\n",
       "      <td>0</td>\n",
       "      <td>0.2728</td>\n",
       "      <td>0</td>\n",
       "      <td>7</td>\n",
       "      <td>0</td>\n",
       "    </tr>\n",
       "    <tr>\n",
       "      <th>3</th>\n",
       "      <td>18</td>\n",
       "      <td>150</td>\n",
       "      <td>30.8</td>\n",
       "      <td>70</td>\n",
       "      <td>1033</td>\n",
       "      <td>0.6598</td>\n",
       "      <td>56</td>\n",
       "      <td>0</td>\n",
       "      <td>0</td>\n",
       "    </tr>\n",
       "    <tr>\n",
       "      <th>4</th>\n",
       "      <td>24</td>\n",
       "      <td>160</td>\n",
       "      <td>32.4</td>\n",
       "      <td>74</td>\n",
       "      <td>125</td>\n",
       "      <td>0.7608</td>\n",
       "      <td>59</td>\n",
       "      <td>2</td>\n",
       "      <td>0</td>\n",
       "    </tr>\n",
       "  </tbody>\n",
       "</table>\n",
       "</div>"
      ],
      "text/plain": [
       "   age  weight   bmi  blood_pressure  insulin_test  liver_stress_test  \\\n",
       "0   54     189  27.1              80             0             1.5038   \n",
       "1   23     150  38.5              68            71             0.3868   \n",
       "2   47     186  29.9              90             0             0.2728   \n",
       "3   18     150  30.8              70          1033             0.6598   \n",
       "4   24     160  32.4              74           125             0.7608   \n",
       "\n",
       "   cardio_stress_test  years_smoking  zeta_disease  \n",
       "0                   0             10             0  \n",
       "1                  55              2             0  \n",
       "2                   0              7             0  \n",
       "3                  56              0             0  \n",
       "4                  59              2             0  "
      ]
     },
     "execution_count": 432,
     "metadata": {},
     "output_type": "execute_result"
    }
   ],
   "source": [
    "print(f\"Total number of samples {len(df)}\")\n",
    "df.head()"
   ]
  },
  {
   "cell_type": "markdown",
   "metadata": {},
   "source": [
    "#### Normalize Values"
   ]
  },
  {
   "cell_type": "code",
   "execution_count": 433,
   "metadata": {},
   "outputs": [],
   "source": [
    "df_IV = df.drop(\"zeta_disease\", axis=1)\n",
    "# df_IV = df_IV.drop(\"cardio_stress_test\", axis=1)\n",
    "# df_IV = df_IV.drop(\"blood_pressure\", axis=1)\n",
    "# df_IV = df_IV.drop(\"liver_stress_test\", axis=1)\n",
    "# df_IV = df_IV.drop(\"insulin_test\", axis=1)\n",
    "# df_IV = df_IV.drop(\"age\", axis=1)\n",
    "\n",
    "# Applying SQRT Transformation to reduce the effect\n",
    "# There are 0 value so log transformation wouldn't work.\n",
    "df_IV[\"cardio_stress_test\"] = np.sqrt(np.abs(df_IV[\"cardio_stress_test\"]))\n",
    "df_IV[\"blood_pressure\"] = np.sqrt(np.abs(df_IV[\"blood_pressure\"]))\n",
    "df_IV[\"liver_stress_test\"] = np.sqrt(np.abs(df_IV[\"liver_stress_test\"]))\n",
    "df_IV[\"insulin_test\"] = np.sqrt(np.abs(df_IV[\"insulin_test\"]))\n",
    "\n",
    "df_IV = (df_IV - df_IV.mean()) / df_IV.std()\n"
   ]
  },
  {
   "cell_type": "code",
   "execution_count": 434,
   "metadata": {},
   "outputs": [],
   "source": [
    "\n",
    "x_train, x_test, y_train, y_test = train_test_split(df_IV, df.zeta_disease, test_size=0.2, random_state=0)"
   ]
  },
  {
   "cell_type": "code",
   "execution_count": 435,
   "metadata": {},
   "outputs": [],
   "source": [
    "#print(list(y_train))"
   ]
  },
  {
   "cell_type": "markdown",
   "metadata": {},
   "source": [
    "#### "
   ]
  },
  {
   "cell_type": "code",
   "execution_count": 436,
   "metadata": {},
   "outputs": [
    {
     "name": "stdout",
     "output_type": "stream",
     "text": [
      "Optimization terminated successfully.\n",
      "         Current function value: 0.534250\n",
      "         Iterations 6\n",
      "                           Logit Regression Results                           \n",
      "==============================================================================\n",
      "Dep. Variable:           zeta_disease   No. Observations:                  608\n",
      "Model:                          Logit   Df Residuals:                      600\n",
      "Method:                           MLE   Df Model:                            7\n",
      "Date:                Mon, 22 Feb 2021   Pseudo R-squ.:                  0.1656\n",
      "Time:                        23:50:30   Log-Likelihood:                -324.82\n",
      "converged:                       True   LL-Null:                       -389.27\n",
      "Covariance Type:            nonrobust   LLR p-value:                 1.071e-24\n",
      "======================================================================================\n",
      "                         coef    std err          z      P>|z|      [0.025      0.975]\n",
      "--------------------------------------------------------------------------------------\n",
      "age                    0.1770      0.106      1.665      0.096      -0.031       0.385\n",
      "weight                 1.0546      0.127      8.330      0.000       0.806       1.303\n",
      "bmi                    0.5351      0.119      4.513      0.000       0.303       0.767\n",
      "blood_pressure        -0.0626      0.099     -0.630      0.529      -0.257       0.132\n",
      "insulin_test          -0.1390      0.132     -1.057      0.291      -0.397       0.119\n",
      "liver_stress_test      0.3697      0.105      3.509      0.000       0.163       0.576\n",
      "cardio_stress_test     0.0734      0.121      0.607      0.544      -0.164       0.310\n",
      "years_smoking          0.3560      0.123      2.891      0.004       0.115       0.597\n",
      "======================================================================================\n"
     ]
    }
   ],
   "source": [
    "import statsmodels.api as sm\n",
    "sm_model=sm.Logit(y_train,x_train)\n",
    "result=sm_model.fit()\n",
    "print(result.summary())"
   ]
  },
  {
   "cell_type": "code",
   "execution_count": 437,
   "metadata": {},
   "outputs": [],
   "source": [
    "y_pred_df = []\n"
   ]
  },
  {
   "cell_type": "code",
   "execution_count": 438,
   "metadata": {},
   "outputs": [
    {
     "data": {
      "text/plain": [
       "LogisticRegression(C=1.0, class_weight=None, dual=False, fit_intercept=True,\n",
       "                   intercept_scaling=1, l1_ratio=None, max_iter=100,\n",
       "                   multi_class='warn', n_jobs=None, penalty='l2',\n",
       "                   random_state=None, solver='warn', tol=0.0001, verbose=0,\n",
       "                   warm_start=False)"
      ]
     },
     "execution_count": 438,
     "metadata": {},
     "output_type": "execute_result"
    }
   ],
   "source": [
    "LR_model = LogisticRegression()\n",
    "LR_model.fit(x_train, y_train)"
   ]
  },
  {
   "cell_type": "code",
   "execution_count": 306,
   "metadata": {},
   "outputs": [],
   "source": [
    "y_pred = LR_model.predict(x_test)\n"
   ]
  },
  {
   "cell_type": "code",
   "execution_count": null,
   "metadata": {},
   "outputs": [],
   "source": []
  },
  {
   "cell_type": "code",
   "execution_count": 352,
   "metadata": {},
   "outputs": [
    {
     "name": "stdout",
     "output_type": "stream",
     "text": [
      "[[84 13]\n",
      " [25 31]]\n",
      "Test Accuracy: 0.75\n",
      "accuracy_score: 0.7516339869281046\n",
      "precision_score: 0.7045454545454546\n",
      "Recall: 0.5535714285714286\n",
      "f1_score: 0.62\n",
      "              precision    recall  f1-score   support\n",
      "\n",
      "           0       0.77      0.87      0.82        97\n",
      "           1       0.70      0.55      0.62        56\n",
      "\n",
      "    accuracy                           0.75       153\n",
      "   macro avg       0.74      0.71      0.72       153\n",
      "weighted avg       0.75      0.75      0.74       153\n",
      "\n"
     ]
    }
   ],
   "source": [
    "from sklearn.metrics import confusion_matrix, precision_score, recall_score, f1_score, accuracy_score\n",
    "from sklearn.metrics import classification_report\n",
    "\n",
    "confusion_mat = confusion_matrix(y_test, y_pred)\n",
    "print(confusion_mat)\n",
    "print('Test Accuracy: {:.2f}'.format(LR_model.score(x_test, y_test)))\n",
    "print(f'accuracy_score: {accuracy_score(y_test, y_pred)}')\n",
    "print(f'precision_score: {precision_score(y_test, y_pred)}')\n",
    "print(f'Recall: {recall_score(y_test, y_pred)}')\n",
    "print(f'f1_score: {f1_score(y_test, y_pred)}')\n",
    "print(classification_report(y_test, y_pred))"
   ]
  },
  {
   "cell_type": "code",
   "execution_count": 308,
   "metadata": {},
   "outputs": [
    {
     "data": {
      "text/plain": [
       "GridSearchCV(cv=10, error_score='raise-deprecating',\n",
       "             estimator=LogisticRegression(C=1.0, class_weight=None, dual=False,\n",
       "                                          fit_intercept=True,\n",
       "                                          intercept_scaling=1, l1_ratio=None,\n",
       "                                          max_iter=100, multi_class='warn',\n",
       "                                          n_jobs=None, penalty='l2',\n",
       "                                          random_state=None, solver='warn',\n",
       "                                          tol=0.0001, verbose=0,\n",
       "                                          warm_start=False),\n",
       "             iid='warn', n_jobs=None,\n",
       "             param_grid={'C': array([1.e-03, 1.e-02, 1.e-01, 1.e+00, 1.e+01, 1.e+02, 1.e+03]),\n",
       "                         'penalty': ['l1', 'l2']},\n",
       "             pre_dispatch='2*n_jobs', refit=True, return_train_score=False,\n",
       "             scoring=None, verbose=0)"
      ]
     },
     "execution_count": 308,
     "metadata": {},
     "output_type": "execute_result"
    }
   ],
   "source": [
    "from sklearn.model_selection import GridSearchCV\n",
    "grid={\n",
    "    \"C\":np.logspace(-3,3,7), #Inverse of regularization strength; smaller values specify stronger regularization.\n",
    "    \"penalty\":[\"l1\",\"l2\"]    # l1 lasso l2 ridge\n",
    "    }\n",
    "lr_m=LogisticRegression()\n",
    "logreg_cv=GridSearchCV(lr_m,grid,cv=10)\n",
    "logreg_cv.fit(x_train,y_train)"
   ]
  },
  {
   "cell_type": "code",
   "execution_count": 271,
   "metadata": {},
   "outputs": [
    {
     "name": "stdout",
     "output_type": "stream",
     "text": [
      "tuned hpyerparameters :(best parameters)  {'C': 10.0, 'penalty': 'l1'}\n",
      "accuracy : 0.7763157894736842\n"
     ]
    }
   ],
   "source": [
    "print(\"tuned hpyerparameters :(best parameters) \",logreg_cv.best_params_)\n",
    "print(\"accuracy :\",logreg_cv.best_score_)"
   ]
  },
  {
   "cell_type": "code",
   "execution_count": 332,
   "metadata": {},
   "outputs": [
    {
     "name": "stdout",
     "output_type": "stream",
     "text": [
      "score 0.7581699346405228\n"
     ]
    }
   ],
   "source": [
    "LR_model2=LogisticRegression(C=0.01,penalty=\"l2\")\n",
    "LR_model2.fit(x_train,y_train)\n",
    "print(\"score\",LR_model2.score(x_test,y_test))"
   ]
  },
  {
   "cell_type": "code",
   "execution_count": 333,
   "metadata": {},
   "outputs": [],
   "source": [
    "y_pred_df = []\n"
   ]
  },
  {
   "cell_type": "code",
   "execution_count": 395,
   "metadata": {},
   "outputs": [
    {
     "name": "stdout",
     "output_type": "stream",
     "text": [
      "[[82 15]\n",
      " [22 34]]\n",
      "Test Accuracy: 0.76\n",
      "accuracy_score: 0.6535947712418301\n",
      "precision_score: 0.5142857142857142\n",
      "Recall: 0.9642857142857143\n",
      "f1_score: 0.670807453416149\n",
      "              precision    recall  f1-score   support\n",
      "\n",
      "           0       0.96      0.47      0.63        97\n",
      "           1       0.51      0.96      0.67        56\n",
      "\n",
      "    accuracy                           0.65       153\n",
      "   macro avg       0.74      0.72      0.65       153\n",
      "weighted avg       0.80      0.65      0.65       153\n",
      "\n"
     ]
    }
   ],
   "source": [
    "LR_model2=LogisticRegression(C=0.01,penalty=\"l2\")\n",
    "LR_model2.fit(x_train,y_train)\n",
    "print(\"score\",LR_model2.score(x_test,y_test))\n",
    "y_pred = LR_model2.predict(x_test)\n",
    "y_pred_df.append(y_pred)\n",
    "confusion_mat = confusion_matrix(y_test, y_pred)\n",
    "print(confusion_mat)\n",
    "print('Test Accuracy: {:.2f}'.format(LR_model2.score(x_test, y_test)))\n",
    "\n",
    "threshold = 0.3\n",
    "LR_Grid_ytest_THR = ((LR_model2.predict_proba(x_test)[:, 1])>= threshold).astype(int)\n",
    "print(f'accuracy_score: {accuracy_score(y_test, LR_Grid_ytest_THR)}')\n",
    "print(f'precision_score: {precision_score(y_test, LR_Grid_ytest_THR)}')\n",
    "print(f'Recall: {recall_score(y_test, LR_Grid_ytest_THR)}')\n",
    "print(f'f1_score: {f1_score(y_test, LR_Grid_ytest_THR)}')\n",
    "\n",
    "print(classification_report(y_test, LR_Grid_ytest_THR))"
   ]
  },
  {
   "cell_type": "code",
   "execution_count": null,
   "metadata": {},
   "outputs": [],
   "source": []
  },
  {
   "cell_type": "code",
   "execution_count": null,
   "metadata": {},
   "outputs": [],
   "source": []
  },
  {
   "cell_type": "markdown",
   "metadata": {},
   "source": [
    "#### Random Forest Classifier"
   ]
  },
  {
   "cell_type": "code",
   "execution_count": 220,
   "metadata": {},
   "outputs": [
    {
     "name": "stderr",
     "output_type": "stream",
     "text": [
      "C:\\Users\\nkumar\\.conda\\envs\\exp_torch\\lib\\site-packages\\sklearn\\model_selection\\_search.py:814: DeprecationWarning: The default of the `iid` parameter will change from True to False in version 0.22 and will be removed in 0.24. This will change numeric results when test-set sizes are unequal.\n",
      "  DeprecationWarning)\n"
     ]
    },
    {
     "data": {
      "text/plain": [
       "GridSearchCV(cv=10, error_score='raise-deprecating',\n",
       "             estimator=RandomForestClassifier(bootstrap=True, class_weight=None,\n",
       "                                              criterion='gini', max_depth=None,\n",
       "                                              max_features='auto',\n",
       "                                              max_leaf_nodes=None,\n",
       "                                              min_impurity_decrease=0.0,\n",
       "                                              min_impurity_split=None,\n",
       "                                              min_samples_leaf=1,\n",
       "                                              min_samples_split=2,\n",
       "                                              min_weight_fraction_leaf=0.0,\n",
       "                                              n_estimators='warn', n_jobs=-1,\n",
       "                                              oob_score=False, random_state=42,\n",
       "                                              verbose=0, warm_start=False),\n",
       "             iid='warn', n_jobs=None,\n",
       "             param_grid={'criterion': ['entropy'], 'max_depth': [4],\n",
       "                         'max_features': ['auto'],\n",
       "                         'n_estimators': [10, 20, 25]},\n",
       "             pre_dispatch='2*n_jobs', refit=True, return_train_score=False,\n",
       "             scoring=None, verbose=0)"
      ]
     },
     "execution_count": 220,
     "metadata": {},
     "output_type": "execute_result"
    }
   ],
   "source": [
    "from sklearn.ensemble import RandomForestClassifier\n",
    "rf = RandomForestClassifier(random_state = 42, n_jobs=-1)\n",
    "\n",
    "param_grid = { \n",
    "    'n_estimators': [10, 20, 25],  #The number of trees in the forest.\n",
    "    'max_features': ['auto'],  # The number of features to consider when looking for the best split\n",
    "    'max_depth' : [4],\n",
    "    'criterion' :['entropy']\n",
    "}\n",
    "\n",
    "\n",
    "rf_cv = GridSearchCV(estimator=rf, param_grid=param_grid, cv= 10)\n",
    "rf_cv.fit(x_train, y_train)\n",
    "\n",
    "\n"
   ]
  },
  {
   "cell_type": "code",
   "execution_count": 221,
   "metadata": {},
   "outputs": [
    {
     "data": {
      "text/plain": [
       "{'criterion': 'entropy',\n",
       " 'max_depth': 4,\n",
       " 'max_features': 'auto',\n",
       " 'n_estimators': 20}"
      ]
     },
     "execution_count": 221,
     "metadata": {},
     "output_type": "execute_result"
    }
   ],
   "source": [
    "# {rf_cv.best_params_:{'criterion': 'entropy',\n",
    "#  'max_depth': 4,\n",
    "#  'max_features': 'auto',\n",
    "#  'n_estimators': 25}} # First round output\n",
    "rf_cv.best_params_"
   ]
  },
  {
   "cell_type": "code",
   "execution_count": 375,
   "metadata": {},
   "outputs": [
    {
     "data": {
      "text/plain": [
       "RandomForestClassifier(bootstrap=True, class_weight=None, criterion='entropy',\n",
       "                       max_depth=3, max_features='auto', max_leaf_nodes=None,\n",
       "                       min_impurity_decrease=0.0, min_impurity_split=None,\n",
       "                       min_samples_leaf=1, min_samples_split=2,\n",
       "                       min_weight_fraction_leaf=0.0, n_estimators=5, n_jobs=-1,\n",
       "                       oob_score=False, random_state=42, verbose=0,\n",
       "                       warm_start=False)"
      ]
     },
     "execution_count": 375,
     "metadata": {},
     "output_type": "execute_result"
    }
   ],
   "source": [
    "rf_final = RandomForestClassifier(random_state = 42, \n",
    "                                  max_features='auto', \n",
    "                                  n_estimators= 5, \n",
    "                                  max_depth=3, \n",
    "                                  criterion='entropy',\n",
    "                                  n_jobs=-1)\n",
    "rf_final.fit(x_train, y_train)"
   ]
  },
  {
   "cell_type": "code",
   "execution_count": 377,
   "metadata": {},
   "outputs": [
    {
     "name": "stdout",
     "output_type": "stream",
     "text": [
      "[[87 10]\n",
      " [32 24]]\n",
      "Test Accuracy: 0.73\n",
      "accuracy_score: 0.7254901960784313\n",
      "precision_score: 0.7058823529411765\n",
      "Recall: 0.42857142857142855\n",
      "f1_score: 0.5333333333333333\n",
      "              precision    recall  f1-score   support\n",
      "\n",
      "           0       0.73      0.90      0.81        97\n",
      "           1       0.71      0.43      0.53        56\n",
      "\n",
      "    accuracy                           0.73       153\n",
      "   macro avg       0.72      0.66      0.67       153\n",
      "weighted avg       0.72      0.73      0.71       153\n",
      "\n"
     ]
    }
   ],
   "source": [
    "y_pred = rf_final.predict(x_test)\n",
    "y_pred_df.append(y_pred)\n",
    "confusion_mat = confusion_matrix(y_test, y_pred)\n",
    "print(confusion_mat)\n",
    "print('Test Accuracy: {:.2f}'.format(rf_final.score(x_test, y_test)))\n",
    "print(f'accuracy_score: {accuracy_score(y_test, y_pred)}')\n",
    "print(f'precision_score: {precision_score(y_test, y_pred)}')\n",
    "print(f'Recall: {recall_score(y_test, y_pred)}')\n",
    "print(f'f1_score: {f1_score(y_test, y_pred)}')\n",
    "\n",
    "print(classification_report(y_test, y_pred))"
   ]
  },
  {
   "cell_type": "markdown",
   "metadata": {},
   "source": [
    "#### Gradient Boosting"
   ]
  },
  {
   "cell_type": "code",
   "execution_count": 276,
   "metadata": {},
   "outputs": [
    {
     "data": {
      "text/plain": [
       "GridSearchCV(cv=10, error_score='raise-deprecating',\n",
       "             estimator=GradientBoostingClassifier(criterion='friedman_mse',\n",
       "                                                  init=None, learning_rate=0.1,\n",
       "                                                  loss='deviance', max_depth=3,\n",
       "                                                  max_features=None,\n",
       "                                                  max_leaf_nodes=None,\n",
       "                                                  min_impurity_decrease=0.0,\n",
       "                                                  min_impurity_split=None,\n",
       "                                                  min_samples_leaf=1,\n",
       "                                                  min_samples_split=2,\n",
       "                                                  min_weight_fraction_leaf=0.0,\n",
       "                                                  n_estimators=100,\n",
       "                                                  n_iter_n...\n",
       "                                                  subsample=1.0, tol=0.0001,\n",
       "                                                  validation_fraction=0.1,\n",
       "                                                  verbose=0, warm_start=False),\n",
       "             iid='warn', n_jobs=-1,\n",
       "             param_grid={'criterion': ['friedman_mse'],\n",
       "                         'learning_rate': [0.01, 0.02, 0.1],\n",
       "                         'loss': ['deviance'], 'max_depth': [3, 4],\n",
       "                         'min_samples_split': array([0.1, 0.3, 0.5]),\n",
       "                         'n_estimators': [10], 'subsample': [0.8]},\n",
       "             pre_dispatch='2*n_jobs', refit=True, return_train_score=False,\n",
       "             scoring=None, verbose=0)"
      ]
     },
     "execution_count": 276,
     "metadata": {},
     "output_type": "execute_result"
    }
   ],
   "source": [
    "from sklearn.ensemble import GradientBoostingClassifier\n",
    "\n",
    "parameters = {\n",
    "    \"loss\":[\"deviance\"],\n",
    "    \"learning_rate\": [0.01, 0.02, 0.1],\n",
    "    \"min_samples_split\": np.linspace(0.1, 0.5, 3),\n",
    "    \"max_depth\":[3,4],\n",
    "    \"criterion\": [\"friedman_mse\"],\n",
    "    \"subsample\":[0.8],\n",
    "    \"n_estimators\":[10]\n",
    "    }\n",
    "\n",
    "db_model = GradientBoostingClassifier()\n",
    "gb_cv = GridSearchCV(db_model, parameters, cv=10, n_jobs=-1)\n",
    "\n",
    "gb_cv.fit(x_train, y_train)"
   ]
  },
  {
   "cell_type": "code",
   "execution_count": 277,
   "metadata": {},
   "outputs": [
    {
     "data": {
      "text/plain": [
       "{'criterion': 'friedman_mse',\n",
       " 'learning_rate': 0.1,\n",
       " 'loss': 'deviance',\n",
       " 'max_depth': 3,\n",
       " 'min_samples_split': 0.1,\n",
       " 'n_estimators': 10,\n",
       " 'subsample': 0.8}"
      ]
     },
     "execution_count": 277,
     "metadata": {},
     "output_type": "execute_result"
    }
   ],
   "source": [
    "gb_cv.best_params_"
   ]
  },
  {
   "cell_type": "code",
   "execution_count": 337,
   "metadata": {},
   "outputs": [
    {
     "data": {
      "text/plain": [
       "GradientBoostingClassifier(criterion='friedman_mse', init=None,\n",
       "                           learning_rate=0.1, loss='deviance', max_depth=3,\n",
       "                           max_features=None, max_leaf_nodes=None,\n",
       "                           min_impurity_decrease=0.0, min_impurity_split=None,\n",
       "                           min_samples_leaf=1, min_samples_split=0.3,\n",
       "                           min_weight_fraction_leaf=0.0, n_estimators=10,\n",
       "                           n_iter_no_change=None, presort='auto',\n",
       "                           random_state=None, subsample=1, tol=0.0001,\n",
       "                           validation_fraction=0.1, verbose=0,\n",
       "                           warm_start=False)"
      ]
     },
     "execution_count": 337,
     "metadata": {},
     "output_type": "execute_result"
    }
   ],
   "source": [
    "gb_final = GradientBoostingClassifier(criterion='friedman_mse',\n",
    "                                    learning_rate=0.1,\n",
    "                                    loss='deviance', \n",
    "                                    max_depth=3,\n",
    "                                     min_samples_split=0.3,\n",
    "                                     n_estimators=10,\n",
    "                                     subsample=1)\n",
    "gb_final.fit(x_train, y_train)"
   ]
  },
  {
   "cell_type": "code",
   "execution_count": 338,
   "metadata": {},
   "outputs": [
    {
     "name": "stdout",
     "output_type": "stream",
     "text": [
      "[[89  8]\n",
      " [33 23]]\n",
      "Test Accuracy: 0.73\n",
      "              precision    recall  f1-score   support\n",
      "\n",
      "           0       0.73      0.92      0.81        97\n",
      "           1       0.74      0.41      0.53        56\n",
      "\n",
      "    accuracy                           0.73       153\n",
      "   macro avg       0.74      0.66      0.67       153\n",
      "weighted avg       0.73      0.73      0.71       153\n",
      "\n"
     ]
    }
   ],
   "source": [
    "y_pred = gb_final.predict(x_test)\n",
    "y_pred_df.append(y_pred)\n",
    "confusion_mat = confusion_matrix(y_test, y_pred)\n",
    "print(confusion_mat)\n",
    "print('Test Accuracy: {:.2f}'.format(gb_final.score(x_test, y_test)))\n",
    "print(classification_report(y_test, y_pred))"
   ]
  },
  {
   "cell_type": "code",
   "execution_count": null,
   "metadata": {},
   "outputs": [],
   "source": []
  },
  {
   "cell_type": "code",
   "execution_count": 364,
   "metadata": {},
   "outputs": [
    {
     "data": {
      "text/plain": [
       "GridSearchCV(cv='warn', error_score='raise-deprecating',\n",
       "             estimator=SVC(C=1.0, cache_size=200, class_weight=None, coef0=0.0,\n",
       "                           decision_function_shape='ovr', degree=3,\n",
       "                           gamma='auto_deprecated', kernel='rbf', max_iter=-1,\n",
       "                           probability=False, random_state=None, shrinking=True,\n",
       "                           tol=0.001, verbose=False),\n",
       "             iid='warn', n_jobs=None,\n",
       "             param_grid={'C': [0.2, 0.3, 0.4, 0.5, 1, 10, 100],\n",
       "                         'kernel': ('linear', 'rbf', 'poly')},\n",
       "             pre_dispatch='2*n_jobs', refit=True, return_train_score=False,\n",
       "             scoring=None, verbose=0)"
      ]
     },
     "execution_count": 364,
     "metadata": {},
     "output_type": "execute_result"
    }
   ],
   "source": [
    "from sklearn.svm import SVC\n",
    "\n",
    "parameters = {\n",
    "    'kernel':('linear', 'rbf', 'poly'), \n",
    "    'C':[0.2, 0.3,0.4,0.5, 1, 10, 100]\n",
    "}\n",
    "\n",
    "svm_cv = GridSearchCV(SVC(), param_grid=parameters)\n",
    "svm_cv.fit(x_train,y_train)\n",
    "\n"
   ]
  },
  {
   "cell_type": "code",
   "execution_count": 365,
   "metadata": {},
   "outputs": [
    {
     "data": {
      "text/plain": [
       "{'C': 0.2, 'kernel': 'linear'}"
      ]
     },
     "execution_count": 365,
     "metadata": {},
     "output_type": "execute_result"
    }
   ],
   "source": [
    "svm_cv.best_params_"
   ]
  },
  {
   "cell_type": "code",
   "execution_count": 366,
   "metadata": {},
   "outputs": [
    {
     "data": {
      "text/plain": [
       "SVC(C=0.2, cache_size=200, class_weight=None, coef0=0.0,\n",
       "    decision_function_shape='ovr', degree=3, gamma='auto_deprecated',\n",
       "    kernel='linear', max_iter=-1, probability=False, random_state=None,\n",
       "    shrinking=True, tol=0.001, verbose=False)"
      ]
     },
     "execution_count": 366,
     "metadata": {},
     "output_type": "execute_result"
    }
   ],
   "source": [
    "svm_final = SVC(C=0.2, kernel='linear')\n",
    "svm_final.fit(x_train,y_train)\n"
   ]
  },
  {
   "cell_type": "code",
   "execution_count": 367,
   "metadata": {},
   "outputs": [
    {
     "name": "stdout",
     "output_type": "stream",
     "text": [
      "[[84 13]\n",
      " [26 30]]\n",
      "Test Accuracy: 0.75\n",
      "precision_score: 0.6976744186046512\n",
      "Recall: 0.5357142857142857\n",
      "f1_score: 0.6060606060606061\n",
      "              precision    recall  f1-score   support\n",
      "\n",
      "           0       0.76      0.87      0.81        97\n",
      "           1       0.70      0.54      0.61        56\n",
      "\n",
      "    accuracy                           0.75       153\n",
      "   macro avg       0.73      0.70      0.71       153\n",
      "weighted avg       0.74      0.75      0.74       153\n",
      "\n"
     ]
    }
   ],
   "source": [
    "y_pred = svm_final.predict(x_test)\n",
    "y_pred_df.append(y_pred)\n",
    "confusion_mat = confusion_matrix(y_test, y_pred)\n",
    "print(confusion_mat)\n",
    "print('Test Accuracy: {:.2f}'.format(svm_final.score(x_test, y_test)))\n",
    "print(f'precision_score: {precision_score(y_test, y_pred)}')\n",
    "print(f'Recall: {recall_score(y_test, y_pred)}')\n",
    "print(f'f1_score: {f1_score(y_test, y_pred)}')\n",
    "print(classification_report(y_test, y_pred))"
   ]
  },
  {
   "cell_type": "markdown",
   "metadata": {},
   "source": [
    "### Check if Stacking can improve the output"
   ]
  },
  {
   "cell_type": "code",
   "execution_count": 355,
   "metadata": {},
   "outputs": [],
   "source": [
    "model_outputs_df = pd.DataFrame(columns=[\"LR\", \"RF\", \"GB\", \"SVM\",\"OBS\"])\n",
    "model_outputs_df.LR = y_pred_df[0]\n",
    "model_outputs_df.RF = y_pred_df[1]\n",
    "model_outputs_df.GB = y_pred_df[2]\n",
    "model_outputs_df.SVM = y_pred_df[3]\n",
    "model_outputs_df.OBS = list(y_test)\n",
    "#model_outputs_df"
   ]
  },
  {
   "cell_type": "code",
   "execution_count": 386,
   "metadata": {},
   "outputs": [],
   "source": [
    "def label_max_poll (row):\n",
    "    sum_all = row[\"SVM\"] + row[\"GB\"] + row[\"RF\"] #row[\"LR\"]  + \n",
    "    if sum_all >= 2 and row['OBS'] == 1:\n",
    "        return 1\n",
    "    elif sum_all >= 2 and row['OBS'] == 0:\n",
    "        return 0\n",
    "    elif sum_all < 2 and row['OBS'] == 0:\n",
    "        return 1\n",
    "    else:\n",
    "        return 0\n",
    "def compare_obs(row):\n",
    "    if row['OBS'] == row['max_poll']:\n",
    "        return 1\n",
    "    else:\n",
    "        return 0\n",
    "    "
   ]
  },
  {
   "cell_type": "code",
   "execution_count": 387,
   "metadata": {},
   "outputs": [],
   "source": [
    "model_outputs_df['max_poll'] = model_outputs_df.apply(lambda row: label_max_poll(row), axis=1) \n"
   ]
  },
  {
   "cell_type": "code",
   "execution_count": 390,
   "metadata": {},
   "outputs": [
    {
     "data": {
      "text/plain": [
       "73.8562091503268"
      ]
     },
     "execution_count": 390,
     "metadata": {},
     "output_type": "execute_result"
    }
   ],
   "source": [
    "#Approximate Accuracy of stacked model\n",
    "model_outputs_df['max_poll'].sum()/len(model_outputs_df) *100\n",
    "\n",
    "# 73.86 is almost same as single model accuracy, Stacking of model is not going to help."
   ]
  },
  {
   "cell_type": "markdown",
   "metadata": {},
   "source": [
    "### Conclusion\n"
   ]
  },
  {
   "cell_type": "markdown",
   "metadata": {},
   "source": [
    "* Logistic Regression, Random Forest, Gradient Boosting and SVM are giving same accuracy.\n",
    "* We should pick Logistic Regression, as "
   ]
  },
  {
   "cell_type": "markdown",
   "metadata": {},
   "source": [
    "* This is simpler Model,\n",
    "* Provide you the driver variables\n",
    "* Adjust the thesshold to fine-tune precision/recall depending on the business need. In our case Recall is more important because person with zeta disease shoudn't be missed out. We can achieve this at the expense of precision\n",
    "* From Grid search of SVM model, the optimum kernel was 'linear'. So we can infer that the data is linearly seprable.\n",
    "* Outliers have been handles Square Root Transformation which reduces the higher vaues more than the lower values. Log transformation was not possible because of 0 values in the data.\n",
    "* Threshold has been set as 0.3.\n",
    "* accuracy_score: 0.6535947712418301\n",
    "* precision_score: 0.5142857142857142\n",
    "* Recall: 0.9642857142857143  -> Very good Recall."
   ]
  },
  {
   "cell_type": "code",
   "execution_count": 401,
   "metadata": {},
   "outputs": [
    {
     "name": "stdout",
     "output_type": "stream",
     "text": [
      "score 0.7581699346405228\n",
      "[[82 15]\n",
      " [22 34]]\n",
      "Test Accuracy: 0.76\n",
      "accuracy_score: 0.6535947712418301\n",
      "precision_score: 0.5142857142857142\n",
      "Recall: 0.9642857142857143\n",
      "f1_score: 0.670807453416149\n",
      "              precision    recall  f1-score   support\n",
      "\n",
      "           0       0.96      0.47      0.63        97\n",
      "           1       0.51      0.96      0.67        56\n",
      "\n",
      "    accuracy                           0.65       153\n",
      "   macro avg       0.74      0.72      0.65       153\n",
      "weighted avg       0.80      0.65      0.65       153\n",
      "\n"
     ]
    }
   ],
   "source": [
    "# Training time model (Final)\n",
    "LR_model2=LogisticRegression(C=0.01,penalty=\"l2\")\n",
    "LR_model2.fit(x_train,y_train)\n",
    "print(\"score\",LR_model2.score(x_test,y_test))\n",
    "y_pred = LR_model2.predict(x_test)\n",
    "y_pred_df.append(y_pred)\n",
    "confusion_mat = confusion_matrix(y_test, y_pred)\n",
    "print(confusion_mat)\n",
    "print('Test Accuracy: {:.2f}'.format(LR_model2.score(x_test, y_test)))\n",
    "\n",
    "threshold = 0.3\n",
    "LR_Grid_ytest_THR = ((LR_model2.predict_proba(x_test)[:, 1])>= threshold).astype(int)\n",
    "print(f'accuracy_score: {accuracy_score(y_test, LR_Grid_ytest_THR)}')\n",
    "print(f'precision_score: {precision_score(y_test, LR_Grid_ytest_THR)}')\n",
    "print(f'Recall: {recall_score(y_test, LR_Grid_ytest_THR)}')\n",
    "print(f'f1_score: {f1_score(y_test, LR_Grid_ytest_THR)}')\n",
    "\n",
    "print(classification_report(y_test, LR_Grid_ytest_THR))"
   ]
  },
  {
   "cell_type": "markdown",
   "metadata": {},
   "source": [
    "### Predicting the test data"
   ]
  },
  {
   "cell_type": "code",
   "execution_count": 400,
   "metadata": {},
   "outputs": [
    {
     "data": {
      "text/html": [
       "<div>\n",
       "<style scoped>\n",
       "    .dataframe tbody tr th:only-of-type {\n",
       "        vertical-align: middle;\n",
       "    }\n",
       "\n",
       "    .dataframe tbody tr th {\n",
       "        vertical-align: top;\n",
       "    }\n",
       "\n",
       "    .dataframe thead th {\n",
       "        text-align: right;\n",
       "    }\n",
       "</style>\n",
       "<table border=\"1\" class=\"dataframe\">\n",
       "  <thead>\n",
       "    <tr style=\"text-align: right;\">\n",
       "      <th></th>\n",
       "      <th>age</th>\n",
       "      <th>weight</th>\n",
       "      <th>bmi</th>\n",
       "      <th>blood_pressure</th>\n",
       "      <th>insulin_test</th>\n",
       "      <th>liver_stress_test</th>\n",
       "      <th>cardio_stress_test</th>\n",
       "      <th>years_smoking</th>\n",
       "      <th>zeta_disease</th>\n",
       "    </tr>\n",
       "  </thead>\n",
       "  <tbody>\n",
       "    <tr>\n",
       "      <th>0</th>\n",
       "      <td>24</td>\n",
       "      <td>151</td>\n",
       "      <td>39.5</td>\n",
       "      <td>69</td>\n",
       "      <td>72</td>\n",
       "      <td>1.3968</td>\n",
       "      <td>56</td>\n",
       "      <td>4</td>\n",
       "      <td>NaN</td>\n",
       "    </tr>\n",
       "    <tr>\n",
       "      <th>1</th>\n",
       "      <td>27</td>\n",
       "      <td>179</td>\n",
       "      <td>35.5</td>\n",
       "      <td>89</td>\n",
       "      <td>156</td>\n",
       "      <td>1.6608</td>\n",
       "      <td>43</td>\n",
       "      <td>6</td>\n",
       "      <td>NaN</td>\n",
       "    </tr>\n",
       "    <tr>\n",
       "      <th>2</th>\n",
       "      <td>34</td>\n",
       "      <td>147</td>\n",
       "      <td>26.9</td>\n",
       "      <td>76</td>\n",
       "      <td>74</td>\n",
       "      <td>1.6958</td>\n",
       "      <td>53</td>\n",
       "      <td>2</td>\n",
       "      <td>NaN</td>\n",
       "    </tr>\n",
       "    <tr>\n",
       "      <th>3</th>\n",
       "      <td>35</td>\n",
       "      <td>206</td>\n",
       "      <td>32.4</td>\n",
       "      <td>73</td>\n",
       "      <td>127</td>\n",
       "      <td>1.4608</td>\n",
       "      <td>61</td>\n",
       "      <td>6</td>\n",
       "      <td>NaN</td>\n",
       "    </tr>\n",
       "    <tr>\n",
       "      <th>4</th>\n",
       "      <td>60</td>\n",
       "      <td>193</td>\n",
       "      <td>29.8</td>\n",
       "      <td>62</td>\n",
       "      <td>192</td>\n",
       "      <td>1.7798</td>\n",
       "      <td>65</td>\n",
       "      <td>9</td>\n",
       "      <td>NaN</td>\n",
       "    </tr>\n",
       "  </tbody>\n",
       "</table>\n",
       "</div>"
      ],
      "text/plain": [
       "   age  weight   bmi  blood_pressure  insulin_test  liver_stress_test  \\\n",
       "0   24     151  39.5              69            72             1.3968   \n",
       "1   27     179  35.5              89           156             1.6608   \n",
       "2   34     147  26.9              76            74             1.6958   \n",
       "3   35     206  32.4              73           127             1.4608   \n",
       "4   60     193  29.8              62           192             1.7798   \n",
       "\n",
       "   cardio_stress_test  years_smoking  zeta_disease  \n",
       "0                  56              4           NaN  \n",
       "1                  43              6           NaN  \n",
       "2                  53              2           NaN  \n",
       "3                  61              6           NaN  \n",
       "4                  65              9           NaN  "
      ]
     },
     "execution_count": 400,
     "metadata": {},
     "output_type": "execute_result"
    }
   ],
   "source": [
    "file_predict = r\"D:\\000000BookQueue\\FAQs\\ML\\interview\\Interview_Assignements\\Carrier_Hydrabad\\2021-01-21_zeta-disease_prediction-data_dsi-take-home-challenge.csv\"\n",
    "df_predict = pd.read_csv(file_predict, header=0)\n",
    "df_predict.head()"
   ]
  },
  {
   "cell_type": "code",
   "execution_count": 405,
   "metadata": {},
   "outputs": [],
   "source": [
    "df_IV_pred = df_predict.drop(\"zeta_disease\", axis=1)\n",
    "\n",
    "# Applying SQRT Transformation to reduce the effect\n",
    "# There are 0 value so log transformation wouldn't work.\n",
    "df_IV_pred[\"cardio_stress_test\"] = np.sqrt(np.abs(df_IV_pred[\"cardio_stress_test\"]))\n",
    "df_IV_pred[\"blood_pressure\"] = np.sqrt(np.abs(df_IV_pred[\"blood_pressure\"]))\n",
    "df_IV_pred[\"liver_stress_test\"] = np.sqrt(np.abs(df_IV_pred[\"liver_stress_test\"]))\n",
    "df_IV_pred[\"insulin_test\"] = np.sqrt(np.abs(df_IV_pred[\"insulin_test\"]))\n",
    "\n",
    "df_IV_pred = (df_IV_pred - df_IV_pred.mean()) / df_IV_pred.std()\n"
   ]
  },
  {
   "cell_type": "code",
   "execution_count": 406,
   "metadata": {},
   "outputs": [
    {
     "data": {
      "text/plain": [
       "LogisticRegression(C=0.01, class_weight=None, dual=False, fit_intercept=True,\n",
       "                   intercept_scaling=1, l1_ratio=None, max_iter=100,\n",
       "                   multi_class='warn', n_jobs=None, penalty='l2',\n",
       "                   random_state=None, solver='warn', tol=0.0001, verbose=0,\n",
       "                   warm_start=False)"
      ]
     },
     "execution_count": 406,
     "metadata": {},
     "output_type": "execute_result"
    }
   ],
   "source": [
    "# Building Logistic Regression Model with best parameter using complete training data \n",
    "LR_model_final=LogisticRegression(C=0.01,penalty=\"l2\")\n",
    "LR_model_final.fit(df_IV,df.zeta_disease)\n"
   ]
  },
  {
   "cell_type": "code",
   "execution_count": 407,
   "metadata": {
    "scrolled": true
   },
   "outputs": [],
   "source": [
    "y_pred_test_data = LR_model_final.predict(df_IV_pred)\n"
   ]
  },
  {
   "cell_type": "code",
   "execution_count": 410,
   "metadata": {},
   "outputs": [],
   "source": [
    "file_predict_output = r\"D:\\000000BookQueue\\FAQs\\ML\\interview\\Interview_Assignements\\Carrier_Hydrabad\\2021-01-21_zeta-disease_prediction-data_dsi-take-home-challenge_output_Niraj_Kumar.csv\"\n",
    "df_IV_pred['zeta_disease'] = y_pred_test_data\n"
   ]
  },
  {
   "cell_type": "code",
   "execution_count": 411,
   "metadata": {},
   "outputs": [],
   "source": [
    "df_IV_pred.to_csv(file_predict_output)"
   ]
  },
  {
   "cell_type": "markdown",
   "metadata": {},
   "source": [
    "### Future work"
   ]
  },
  {
   "cell_type": "markdown",
   "metadata": {},
   "source": [
    "* Logistic Regression works well with larger dataset, so we should try coleting more data and then build the Logistic Regression model on it.\n",
    "* With arger data set we can try Neural Networks as well.\n",
    "* We can incorporate business input into feature engineering, it may help in deriving new features which may help in enhancing KPIs"
   ]
  },
  {
   "cell_type": "code",
   "execution_count": null,
   "metadata": {},
   "outputs": [],
   "source": []
  }
 ],
 "metadata": {
  "kernelspec": {
   "display_name": "exp_torch",
   "language": "python",
   "name": "exp_torch"
  },
  "language_info": {
   "codemirror_mode": {
    "name": "ipython",
    "version": 3
   },
   "file_extension": ".py",
   "mimetype": "text/x-python",
   "name": "python",
   "nbconvert_exporter": "python",
   "pygments_lexer": "ipython3",
   "version": "3.7.5"
  },
  "toc": {
   "base_numbering": 1,
   "nav_menu": {},
   "number_sections": true,
   "sideBar": true,
   "skip_h1_title": false,
   "title_cell": "Table of Contents",
   "title_sidebar": "Contents",
   "toc_cell": false,
   "toc_position": {},
   "toc_section_display": true,
   "toc_window_display": false
  }
 },
 "nbformat": 4,
 "nbformat_minor": 2
}
